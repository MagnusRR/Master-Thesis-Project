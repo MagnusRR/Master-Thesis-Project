{
 "cells": [
  {
   "cell_type": "markdown",
   "metadata": {},
   "source": [
    "# NST Preprocessing Experiment (NPE)\n",
    "## Unprocessed Pipeline\n",
    "\n",
    "Pipeline with only subtitle metadata removed to be used as baseline in the NST preprocessing Experiment."
   ]
  },
  {
   "cell_type": "code",
   "execution_count": 1,
   "metadata": {},
   "outputs": [],
   "source": [
    "# Imports\n",
    "from tabulate import tabulate\n",
    "import random\n",
    "\n",
    "from src.utils.file_management import (\n",
    "    load_subtitles_from_nst_sample,\n",
    "    stats_file_exists,\n",
    "    write_subtitles_file,\n",
    "    write_stats_file,\n",
    "    load_stats_file,\n",
    "    write_pipeline_file)\n",
    "\n",
    "from src.utils.tables_and_plots import create_stats_table\n",
    "\n",
    "from textPrep.preprocessing_pipeline import (\n",
    "    Preprocess,\n",
    "    RemoveSubtitleMetadata)\n",
    "\n",
    "from textPrep.preprocessing_pipeline.NextGen import NextGen\n",
    "\n",
    "# Variable for indicating which sample to get and properly name written files \n",
    "NST_SAMPLE_SIZE = 1000"
   ]
  },
  {
   "cell_type": "code",
   "execution_count": 2,
   "metadata": {},
   "outputs": [],
   "source": [
    "# Load unprocessed NST sample for the basic preprocessing pipeline\n",
    "subtitled_programs = load_subtitles_from_nst_sample(NST_SAMPLE_SIZE)"
   ]
  },
  {
   "cell_type": "code",
   "execution_count": 5,
   "metadata": {},
   "outputs": [
    {
     "data": {
      "text/plain": [
       "['{\\\\an1}Dette',\n",
       " 'er',\n",
       " 'byen',\n",
       " 'med',\n",
       " 'et',\n",
       " 'ufortjent',\n",
       " 'dårlig',\n",
       " 'rykte.',\n",
       " '{\\\\an1}De',\n",
       " 'fleste']"
      ]
     },
     "execution_count": 5,
     "metadata": {},
     "output_type": "execute_result"
    }
   ],
   "source": [
    "example_program_id = random.choice(list(subtitled_programs.keys()))\n",
    "example_program_slice = 10\n",
    "subtitled_programs[example_program_id][:example_program_slice]"
   ]
  },
  {
   "cell_type": "code",
   "execution_count": 6,
   "metadata": {},
   "outputs": [
    {
     "name": "stdout",
     "output_type": "stream",
     "text": [
      "Stat                              Value\n",
      "---------------------  ----------------\n",
      "dataset_size              999\n",
      "vocab_size             157221\n",
      "total_tokens                1.82958e+06\n",
      "avg_token_freq             11.637\n",
      "avg_token_per_doc        1831.41\n",
      "avg_stopwords_per_doc     881.47\n"
     ]
    }
   ],
   "source": [
    "# Check the baseline stats for the dataset\n",
    "\n",
    "folder_path_unprocessed = r\"nst_preprocessing_experiment/preprocessed_data/\"\n",
    "file_name_unprocessed = f\"npe_{NST_SAMPLE_SIZE}_unprocessed\"\n",
    "\n",
    "table_stats_unprocessed = None\n",
    "\n",
    "if stats_file_exists(folder_path_unprocessed, file_name_unprocessed):\n",
    "    table_stats_unprocessed = list(load_stats_file(folder_path_unprocessed, file_name_unprocessed).items())\n",
    "else:\n",
    "    table_stats_unprocessed = create_stats_table(list(subtitled_programs.values()))\n",
    "print(tabulate(table_stats_unprocessed, headers=[\"Stat\", \"Value\"]))"
   ]
  },
  {
   "cell_type": "code",
   "execution_count": 7,
   "metadata": {},
   "outputs": [],
   "source": [
    "# Initialize the textPrep pipeline\n",
    "pipeline = Preprocess()"
   ]
  },
  {
   "cell_type": "code",
   "execution_count": 8,
   "metadata": {},
   "outputs": [],
   "source": [
    "# Removing technical metadata from subtitles\n",
    "rsm = RemoveSubtitleMetadata()"
   ]
  },
  {
   "cell_type": "code",
   "execution_count": 9,
   "metadata": {},
   "outputs": [],
   "source": [
    "# Add rules to the pipeline (the stringified rule makes it easy to save the pipeline details)\n",
    "pipeline.document_methods = [(rsm.remove_subtitle_metadata, str(rsm),)]"
   ]
  },
  {
   "cell_type": "code",
   "execution_count": 10,
   "metadata": {},
   "outputs": [],
   "source": [
    "# Initialize the pipeline runner\n",
    "runner = NextGen()"
   ]
  },
  {
   "cell_type": "code",
   "execution_count": 14,
   "metadata": {},
   "outputs": [],
   "source": [
    "# Preprocess the data with the given rules\n",
    "preprocessed_data = runner.full_preprocess(list(subtitled_programs.values()), pipeline, ngram_min_freq=-1)\n",
    "subtitled_programs_preprocessed = dict(zip(subtitled_programs.keys(), preprocessed_data))\n",
    "for (program_id, subtitles) in subtitled_programs_preprocessed.items():\n",
    "    subtitled_programs_preprocessed[program_id] = \" \".join(subtitles).split()"
   ]
  },
  {
   "cell_type": "code",
   "execution_count": 15,
   "metadata": {},
   "outputs": [
    {
     "data": {
      "text/plain": [
       "['Dette',\n",
       " 'er',\n",
       " 'byen',\n",
       " 'med',\n",
       " 'et',\n",
       " 'ufortjent',\n",
       " 'dårlig',\n",
       " 'rykte.',\n",
       " 'De',\n",
       " 'fleste']"
      ]
     },
     "execution_count": 15,
     "metadata": {},
     "output_type": "execute_result"
    }
   ],
   "source": [
    "subtitled_programs_preprocessed[example_program_id][:example_program_slice]"
   ]
  },
  {
   "cell_type": "code",
   "execution_count": 17,
   "metadata": {},
   "outputs": [],
   "source": [
    "# Check the stats for the dataset after running pipeline\n",
    "\n",
    "folder_path = r\"nst_preprocessing_experiment/preprocessed_data/\"\n",
    "file_name = f\"npe_{NST_SAMPLE_SIZE}_unprocessed\"\n",
    "\n",
    "table_stats_preprocessed = None\n",
    "\n",
    "if stats_file_exists(folder_path, file_name):\n",
    "    table_stats_preprocessed = list(load_stats_file(folder_path, file_name).items())\n",
    "else:\n",
    "    table_stats_preprocessed = create_stats_table(list(subtitled_programs_preprocessed.values()))"
   ]
  },
  {
   "cell_type": "code",
   "execution_count": 18,
   "metadata": {},
   "outputs": [
    {
     "name": "stdout",
     "output_type": "stream",
     "text": [
      "Stat (with metadata)               Value\n",
      "----------------------  ----------------\n",
      "dataset_size               999\n",
      "vocab_size              157221\n",
      "total_tokens                 1.82958e+06\n",
      "avg_token_freq              11.637\n",
      "avg_token_per_doc         1831.41\n",
      "avg_stopwords_per_doc      881.47\n",
      "\n",
      "Stat (metadata removed)               Value\n",
      "-------------------------  ----------------\n",
      "dataset_size                  999\n",
      "vocab_size                 149975\n",
      "total_tokens                    1.82517e+06\n",
      "avg_token_freq                 12.1698\n",
      "avg_token_per_doc            1826.99\n",
      "avg_stopwords_per_doc         880.987\n"
     ]
    }
   ],
   "source": [
    "# Check the stats for the dataset after running raw pipeline\n",
    "print(tabulate(table_stats_unprocessed, headers=[\"Stat (with metadata)\", \"Value\"]))\n",
    "print()\n",
    "print(tabulate(table_stats_preprocessed, headers=[\"Stat (metadata removed)\", \"Value\"]))"
   ]
  },
  {
   "cell_type": "code",
   "execution_count": 19,
   "metadata": {},
   "outputs": [],
   "source": [
    "# Write preprocessed data to file\n",
    "\n",
    "write_subtitles_file(folder_path, file_name, subtitled_programs_preprocessed)\n",
    "write_stats_file(folder_path, file_name, table_stats_preprocessed)\n",
    "write_pipeline_file(folder_path, file_name, pipeline.document_methods)"
   ]
  }
 ],
 "metadata": {
  "interpreter": {
   "hash": "319280241ff3efc49142e6dc9500d3472c32e7319f7a25b1b817d430a24847ae"
  },
  "kernelspec": {
   "display_name": "Python 3.8.12 ('base')",
   "language": "python",
   "name": "python3"
  },
  "language_info": {
   "codemirror_mode": {
    "name": "ipython",
    "version": 3
   },
   "file_extension": ".py",
   "mimetype": "text/x-python",
   "name": "python",
   "nbconvert_exporter": "python",
   "pygments_lexer": "ipython3",
   "version": "3.8.12"
  },
  "orig_nbformat": 4
 },
 "nbformat": 4,
 "nbformat_minor": 2
}
