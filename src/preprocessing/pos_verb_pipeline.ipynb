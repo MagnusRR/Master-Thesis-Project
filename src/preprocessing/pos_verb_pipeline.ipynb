{
 "cells": [
  {
   "cell_type": "markdown",
   "metadata": {},
   "source": [
    "# NST Preprocessing Experiment (NPE)\n",
    "## POS: verb removal Pipeline\n",
    "\n",
    "Pipeline with intermediate preprocessing rules to remove tokens that have the part-of-speech (POS) tag \"VERB\" to be used in the NST preprocessing Experiment."
   ]
  },
  {
   "cell_type": "code",
   "execution_count": 10,
   "metadata": {},
   "outputs": [],
   "source": [
    "# Imports\n",
    "from tabulate import tabulate\n",
    "import random\n",
    "\n",
    "from src.utils.file_management import (\n",
    "    load_subtitles_from_nst_sample,\n",
    "    stats_file_exists,\n",
    "    load_subtitles,\n",
    "    subtitles_file_exists,\n",
    "    write_subtitles_file,\n",
    "    write_stats_file,\n",
    "    load_stats_file,\n",
    "    write_pipeline_file)\n",
    "\n",
    "from src.utils.tables_and_plots import create_stats_table\n",
    "\n",
    "from textPrep.preprocessing_pipeline import (\n",
    "    Preprocess,\n",
    "    RemoveSubtitleMetadata,\n",
    "    RemovePunctuation,\n",
    "    RemoveNumbers,\n",
    "    Capitalization,\n",
    "    RemoveStopWords,\n",
    "    Lemmatize,\n",
    "    PartOfSpeech)\n",
    "\n",
    "from textPrep.settings.common import word_tf_df\n",
    "\n",
    "from textPrep.preprocessing_pipeline.NextGen import NextGen\n",
    "\n",
    "# Variable for indicating which sample to get and properly name written files \n",
    "NST_SAMPLE_SIZE = 1000"
   ]
  },
  {
   "cell_type": "code",
   "execution_count": 2,
   "metadata": {},
   "outputs": [],
   "source": [
    "# Load unprocessed NST sample for the basic preprocessing pipeline\n",
    "subtitled_programs = load_subtitles_from_nst_sample(NST_SAMPLE_SIZE)"
   ]
  },
  {
   "cell_type": "code",
   "execution_count": 3,
   "metadata": {},
   "outputs": [],
   "source": [
    "# Load file produced by previous pipeline\n",
    "folder_path = r\"nst_preprocessing_experiment/preprocessed_data/\"\n",
    "file_name_previous = f\"npe_{NST_SAMPLE_SIZE}_lem_tfidf\"\n",
    "\n",
    "subtitled_programs_previous_pipeline = load_subtitles(folder_path, file_name_previous)"
   ]
  },
  {
   "cell_type": "code",
   "execution_count": 4,
   "metadata": {},
   "outputs": [
    {
     "data": {
      "text/plain": [
       "['tale',\n",
       " 'fri',\n",
       " 'innvandring',\n",
       " 'integrering',\n",
       " 'sjikane',\n",
       " 'trussel',\n",
       " 'hagle',\n",
       " 'vekke',\n",
       " 'raseri',\n",
       " 'kritisere']"
      ]
     },
     "execution_count": 4,
     "metadata": {},
     "output_type": "execute_result"
    }
   ],
   "source": [
    "example_program_id = random.choice(list(subtitled_programs.keys()))\n",
    "example_program_slice = 10\n",
    "subtitled_programs_previous_pipeline[example_program_id][:example_program_slice]"
   ]
  },
  {
   "cell_type": "code",
   "execution_count": 5,
   "metadata": {},
   "outputs": [
    {
     "name": "stdout",
     "output_type": "stream",
     "text": [
      "Stat (lemmatized + TFIDF)          Value\n",
      "---------------------------  -----------\n",
      "dataset_size                    999\n",
      "vocab_size                    17784\n",
      "total_tokens                 498286\n",
      "avg_token_freq                   28.0188\n",
      "avg_token_per_doc               498.785\n",
      "avg_stopwords_per_doc             0\n"
     ]
    }
   ],
   "source": [
    "# Get the stats for the previous preprocessed data\n",
    "\n",
    "table_stats_previous = None\n",
    "\n",
    "if stats_file_exists(folder_path, file_name_previous):\n",
    "    table_stats_previous = list(load_stats_file(folder_path, file_name_previous).items())\n",
    "else:\n",
    "    table_stats_previous = create_stats_table(list(subtitled_programs_previous_pipeline.values()))\n",
    "print(tabulate(table_stats_previous, headers=[\"Stat (lemmatized + TFIDF)\", \"Value\"]))"
   ]
  },
  {
   "cell_type": "code",
   "execution_count": 6,
   "metadata": {},
   "outputs": [],
   "source": [
    "# Initialize the textPrep pipeline\n",
    "pipeline = Preprocess()"
   ]
  },
  {
   "cell_type": "code",
   "execution_count": 7,
   "metadata": {},
   "outputs": [],
   "source": [
    "# Removing technical metadata from subtitles\n",
    "rsm = RemoveSubtitleMetadata()"
   ]
  },
  {
   "cell_type": "code",
   "execution_count": 8,
   "metadata": {},
   "outputs": [],
   "source": [
    "# Removing tokens with POS tags (using a list of U-POS tags without the \"VERB\" tag)\n",
    "UPOS_TAGS_NO_VERB = (\"ADJ\", \"ADV\", \"INTJ\", \"NOUN\", \"PROPN\", \"ADP\", \"AUX\", \"CCONJ\", \"DET\", \"NUM\", \"PART\", \"PRON\", \"SCONJ\", \"PUNCT\", \"SYM\", \"X\")\n",
    "pos = PartOfSpeech(is_english=False, spacy_language_pipeline='nb_core_news_lg')"
   ]
  },
  {
   "cell_type": "code",
   "execution_count": 11,
   "metadata": {},
   "outputs": [],
   "source": [
    "# Lemmatizing tokens\n",
    "lm = Lemmatize(is_english=False, spacy_language_pipeline='nb_core_news_lg')"
   ]
  },
  {
   "cell_type": "code",
   "execution_count": 12,
   "metadata": {},
   "outputs": [],
   "source": [
    "# Removing everything but alphanumerical characters\n",
    "rp = RemovePunctuation(is_twitter=False, keep_hashtags=False)"
   ]
  },
  {
   "cell_type": "code",
   "execution_count": 13,
   "metadata": {},
   "outputs": [],
   "source": [
    "# Removing all numbers\n",
    "rm = RemoveNumbers()"
   ]
  },
  {
   "cell_type": "code",
   "execution_count": 14,
   "metadata": {},
   "outputs": [],
   "source": [
    "# Lower-casing text\n",
    "cap = Capitalization()"
   ]
  },
  {
   "cell_type": "code",
   "execution_count": 15,
   "metadata": {},
   "outputs": [],
   "source": [
    "# Removing stopwords\n",
    "rsw = RemoveStopWords(is_news=False)"
   ]
  },
  {
   "cell_type": "code",
   "execution_count": 16,
   "metadata": {},
   "outputs": [],
   "source": [
    "# Add rules to the pipeline (the stringified rule makes it easy to save the pipeline details)\n",
    "pipeline.document_methods = [\n",
    "    (rsm.remove_subtitle_metadata, str(rsm),),\n",
    "    (rp.remove_punctuation, str(rp),),\n",
    "    (rm.remove_numbers, str(rm),),\n",
    "    (pos.keep_pos, str(pos), {\"pos\": UPOS_TAGS_NO_VERB}),\n",
    "    (lm.lemmatize_document, str(lm),),\n",
    "    (cap.lowercase, str(cap),),\n",
    "    (rsw.remove_stopwords, str(rsw),)\n",
    "    ]"
   ]
  },
  {
   "cell_type": "code",
   "execution_count": 17,
   "metadata": {},
   "outputs": [],
   "source": [
    "# Initialize the pipeline runner\n",
    "runner = NextGen()"
   ]
  },
  {
   "cell_type": "code",
   "execution_count": 18,
   "metadata": {},
   "outputs": [],
   "source": [
    "# Preprocess the data with the given rules\n",
    "\n",
    "file_name_preprocessed = f\"npe_{NST_SAMPLE_SIZE}_pos_verb\"\n",
    "\n",
    "subtitled_programs_preprocessed = None\n",
    "\n",
    "if subtitles_file_exists(folder_path, file_name_preprocessed):\n",
    "    subtitled_programs_preprocessed = load_subtitles(folder_path, file_name_preprocessed)\n",
    "else:\n",
    "    preprocessed_data = runner.full_preprocess(list(subtitled_programs.values()), pipeline, ngram_min_freq=-1)\n",
    "    \n",
    "    frequencies = word_tf_df({}, preprocessed_data)\n",
    "\n",
    "    tfidf_preprocessed_data = runner.filter_by_tfidf(dataset=preprocessed_data, freq=frequencies, threshold=0.5)\n",
    "    fully_preprocessed_data = runner.filter_by_frequency(dataset=tfidf_preprocessed_data, max_freq=1000)\n",
    "    \n",
    "    subtitled_programs_preprocessed = dict(zip(subtitled_programs.keys(), fully_preprocessed_data))\n",
    "    for (program_id, subtitles) in subtitled_programs_preprocessed.items():\n",
    "        subtitled_programs_preprocessed[program_id] = \" \".join(subtitles).split()"
   ]
  },
  {
   "cell_type": "code",
   "execution_count": 19,
   "metadata": {},
   "outputs": [
    {
     "data": {
      "text/plain": [
       "['innvandring',\n",
       " 'integrering',\n",
       " 'sjikane',\n",
       " 'trussel',\n",
       " 'hagle',\n",
       " 'raseri',\n",
       " 'tradisjonell',\n",
       " 'muslim',\n",
       " 'pga',\n",
       " 'religion']"
      ]
     },
     "execution_count": 19,
     "metadata": {},
     "output_type": "execute_result"
    }
   ],
   "source": [
    "subtitled_programs_preprocessed[example_program_id][:example_program_slice]"
   ]
  },
  {
   "cell_type": "code",
   "execution_count": 21,
   "metadata": {},
   "outputs": [
    {
     "name": "stdout",
     "output_type": "stream",
     "text": [
      "Stat (lemmatized + TF-IDF)          Value\n",
      "----------------------------  -----------\n",
      "dataset_size                     999\n",
      "vocab_size                     17784\n",
      "total_tokens                  498286\n",
      "avg_token_freq                    28.0188\n",
      "avg_token_per_doc                498.785\n",
      "avg_stopwords_per_doc              0\n",
      "\n",
      "Stat (POS - verbs)           Value\n",
      "---------------------  -----------\n",
      "dataset_size              999\n",
      "vocab_size              16296\n",
      "total_tokens           395655\n",
      "avg_token_freq             24.2793\n",
      "avg_token_per_doc         396.051\n",
      "avg_stopwords_per_doc       0\n"
     ]
    }
   ],
   "source": [
    "# Check the stats for the dataset after running pipeline\n",
    "\n",
    "table_stats_preprocessed = None\n",
    "\n",
    "if stats_file_exists(folder_path, file_name_preprocessed):\n",
    "    table_stats_preprocessed = list(load_stats_file(folder_path, file_name_preprocessed).items())\n",
    "else:\n",
    "    table_stats_preprocessed = create_stats_table(list(subtitled_programs_preprocessed.values()))\n",
    "\n",
    "print(tabulate(table_stats_previous, headers=[\"Stat (lemmatized + TF-IDF)\", \"Value\"]))\n",
    "print()\n",
    "print(tabulate(table_stats_preprocessed, headers=[\"Stat (POS - verbs)\", \"Value\"]))"
   ]
  },
  {
   "cell_type": "code",
   "execution_count": 22,
   "metadata": {},
   "outputs": [],
   "source": [
    "methods = []\n",
    "for method in pipeline.document_methods:\n",
    "    if len(method) > 2:\n",
    "        method_desc = str(f\"{method[1]}, extra_args={method[2:]}\")\n",
    "        methods.append((method[0], method_desc))\n",
    "    else:\n",
    "        methods.append(method) "
   ]
  },
  {
   "cell_type": "code",
   "execution_count": 23,
   "metadata": {},
   "outputs": [],
   "source": [
    "# Write preprocessed data to file\n",
    "\n",
    "write_subtitles_file(folder_path, file_name_preprocessed, subtitled_programs_preprocessed)\n",
    "write_stats_file(folder_path, file_name_preprocessed, table_stats_preprocessed)\n",
    "write_pipeline_file(folder_path, file_name_preprocessed, methods)"
   ]
  }
 ],
 "metadata": {
  "interpreter": {
   "hash": "319280241ff3efc49142e6dc9500d3472c32e7319f7a25b1b817d430a24847ae"
  },
  "kernelspec": {
   "display_name": "Python 3.8.12 ('base')",
   "language": "python",
   "name": "python3"
  },
  "language_info": {
   "codemirror_mode": {
    "name": "ipython",
    "version": 3
   },
   "file_extension": ".py",
   "mimetype": "text/x-python",
   "name": "python",
   "nbconvert_exporter": "python",
   "pygments_lexer": "ipython3",
   "version": "3.8.12"
  },
  "orig_nbformat": 4
 },
 "nbformat": 4,
 "nbformat_minor": 2
}
