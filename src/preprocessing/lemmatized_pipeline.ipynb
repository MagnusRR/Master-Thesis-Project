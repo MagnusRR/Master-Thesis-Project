{
 "cells": [
  {
   "cell_type": "markdown",
   "metadata": {},
   "source": [
    "# NST Preprocessing Experiment (NPE)\n",
    "## Lemmatized Pipeline\n",
    "\n",
    "Pipeline with intermediate preprocessing rules to render only lemmatized words to be used in the NST preprocessing Experiment."
   ]
  },
  {
   "cell_type": "code",
   "execution_count": 1,
   "metadata": {},
   "outputs": [],
   "source": [
    "# Imports\n",
    "from tabulate import tabulate\n",
    "import random\n",
    "\n",
    "from src.utils.file_management import (\n",
    "    load_subtitles_from_nst_sample,\n",
    "    stats_file_exists,\n",
    "    load_subtitles,\n",
    "    subtitles_file_exists,\n",
    "    write_subtitles_file,\n",
    "    write_stats_file,\n",
    "    load_stats_file,\n",
    "    write_pipeline_file)\n",
    "\n",
    "from src.utils.tables_and_plots import create_stats_table\n",
    "\n",
    "from textPrep.preprocessing_pipeline import (\n",
    "    Preprocess,\n",
    "    RemoveSubtitleMetadata,\n",
    "    RemovePunctuation,\n",
    "    RemoveNumbers,\n",
    "    Capitalization,\n",
    "    RemoveStopWords,\n",
    "    Lemmatize)\n",
    "\n",
    "from textPrep.preprocessing_pipeline.NextGen import NextGen\n",
    "\n",
    "# Variable for indicating which sample to get and properly name written files \n",
    "NST_SAMPLE_SIZE = 1000"
   ]
  },
  {
   "cell_type": "code",
   "execution_count": 2,
   "metadata": {},
   "outputs": [],
   "source": [
    "# Load unprocessed NST sample for the basic preprocessing pipeline\n",
    "subtitled_programs = load_subtitles_from_nst_sample(NST_SAMPLE_SIZE)"
   ]
  },
  {
   "cell_type": "code",
   "execution_count": 3,
   "metadata": {},
   "outputs": [],
   "source": [
    "# Load file produced by previous pipeline\n",
    "folder_path = r\"nst_preprocessing_experiment/preprocessed_data/\"\n",
    "file_name_previous = f\"npe_{NST_SAMPLE_SIZE}_basic\"\n",
    "\n",
    "subtitled_programs_previous_pipeline = load_subtitles(folder_path, file_name_previous)"
   ]
  },
  {
   "cell_type": "code",
   "execution_count": 4,
   "metadata": {},
   "outputs": [
    {
     "data": {
      "text/plain": [
       "['dårlig',\n",
       " 'svømme',\n",
       " 'gode',\n",
       " 'seilere',\n",
       " 'liker',\n",
       " 'svømme',\n",
       " 'oppå',\n",
       " 'vannet',\n",
       " 'forsøk',\n",
       " 'bunns']"
      ]
     },
     "execution_count": 4,
     "metadata": {},
     "output_type": "execute_result"
    }
   ],
   "source": [
    "example_program_id = random.choice(list(subtitled_programs.keys()))\n",
    "example_program_slice = 10\n",
    "subtitled_programs_previous_pipeline[example_program_id][:example_program_slice]"
   ]
  },
  {
   "cell_type": "code",
   "execution_count": 5,
   "metadata": {},
   "outputs": [
    {
     "name": "stdout",
     "output_type": "stream",
     "text": [
      "Stat (basic)                 Value\n",
      "---------------------  -----------\n",
      "dataset_size              999\n",
      "vocab_size              81649\n",
      "total_tokens           604211\n",
      "avg_token_freq              7.4001\n",
      "avg_token_per_doc         604.816\n",
      "avg_stopwords_per_doc       0\n"
     ]
    }
   ],
   "source": [
    "# Get the stats for the previous preprocessed data\n",
    "\n",
    "table_stats_previous = None\n",
    "\n",
    "if stats_file_exists(folder_path, file_name_previous):\n",
    "    table_stats_previous = list(load_stats_file(folder_path, file_name_previous).items())\n",
    "else:\n",
    "    table_stats_previous = create_stats_table(list(subtitled_programs_previous_pipeline.values()))\n",
    "print(tabulate(table_stats_previous, headers=[\"Stat (basic)\", \"Value\"]))"
   ]
  },
  {
   "cell_type": "code",
   "execution_count": 6,
   "metadata": {},
   "outputs": [],
   "source": [
    "# Initialize the textPrep pipeline\n",
    "pipeline = Preprocess()"
   ]
  },
  {
   "cell_type": "code",
   "execution_count": 7,
   "metadata": {},
   "outputs": [],
   "source": [
    "# Removing technical metadata from subtitles\n",
    "rsm = RemoveSubtitleMetadata()"
   ]
  },
  {
   "cell_type": "code",
   "execution_count": 8,
   "metadata": {},
   "outputs": [],
   "source": [
    "# Lemmatizing tokens\n",
    "lm = Lemmatize(is_english=False, spacy_language_pipeline='nb_core_news_lg')"
   ]
  },
  {
   "cell_type": "code",
   "execution_count": 9,
   "metadata": {},
   "outputs": [],
   "source": [
    "# Removing everything but alphanumerical characters\n",
    "rp = RemovePunctuation(is_twitter=False, keep_hashtags=False)"
   ]
  },
  {
   "cell_type": "code",
   "execution_count": 10,
   "metadata": {},
   "outputs": [],
   "source": [
    "# Removing all numbers\n",
    "rm = RemoveNumbers()"
   ]
  },
  {
   "cell_type": "code",
   "execution_count": 11,
   "metadata": {},
   "outputs": [],
   "source": [
    "# Lower-casing text\n",
    "cap = Capitalization()"
   ]
  },
  {
   "cell_type": "code",
   "execution_count": 12,
   "metadata": {},
   "outputs": [],
   "source": [
    "# Removing stopwords\n",
    "rsw = RemoveStopWords(is_news=False)"
   ]
  },
  {
   "cell_type": "code",
   "execution_count": 13,
   "metadata": {},
   "outputs": [],
   "source": [
    "# Add rules to the pipeline (the stringified rule makes it easy to save the pipeline details)\n",
    "pipeline.document_methods = [\n",
    "    (rsm.remove_subtitle_metadata, str(rsm),),\n",
    "    (lm.lemmatize_document, str(lm),),\n",
    "    (rp.remove_punctuation, str(rp),),\n",
    "    (rm.remove_numbers, str(rm),),\n",
    "    (cap.lowercase, str(cap),),\n",
    "    (rsw.remove_stopwords, str(rsw),)\n",
    "    ]"
   ]
  },
  {
   "cell_type": "code",
   "execution_count": 14,
   "metadata": {},
   "outputs": [],
   "source": [
    "# Initialize the pipeline runner\n",
    "runner = NextGen()"
   ]
  },
  {
   "cell_type": "code",
   "execution_count": 15,
   "metadata": {},
   "outputs": [],
   "source": [
    "# Preprocess the data with the given rules\n",
    "\n",
    "file_name_preprocessed = f\"npe_{NST_SAMPLE_SIZE}_lemmatized\"\n",
    "\n",
    "subtitled_programs_preprocessed = None\n",
    "\n",
    "if subtitles_file_exists(folder_path, file_name_preprocessed):\n",
    "    subtitled_programs_preprocessed = load_subtitles(folder_path, file_name_preprocessed)\n",
    "else:\n",
    "    preprocessed_data = runner.full_preprocess(list(subtitled_programs.values()), pipeline, ngram_min_freq=-1)\n",
    "    subtitled_programs_preprocessed = dict(zip(subtitled_programs.keys(), preprocessed_data))\n",
    "    for (program_id, subtitles) in subtitled_programs_preprocessed.items():\n",
    "        subtitled_programs_preprocessed[program_id] = \" \".join(\" \".join(subtitles).split(\"gåre\")).split()"
   ]
  },
  {
   "cell_type": "code",
   "execution_count": 19,
   "metadata": {},
   "outputs": [
    {
     "data": {
      "text/plain": [
       "['dårlig',\n",
       " 'svømme',\n",
       " 'seiler',\n",
       " 'svømme',\n",
       " 'oppå',\n",
       " 'forsøk',\n",
       " 'bunns',\n",
       " 'vest',\n",
       " 'utfordring',\n",
       " 'utroligst']"
      ]
     },
     "execution_count": 19,
     "metadata": {},
     "output_type": "execute_result"
    }
   ],
   "source": [
    "subtitled_programs_preprocessed[example_program_id][:example_program_slice]"
   ]
  },
  {
   "cell_type": "code",
   "execution_count": 17,
   "metadata": {},
   "outputs": [
    {
     "name": "stdout",
     "output_type": "stream",
     "text": [
      "Stat (basic)                 Value\n",
      "---------------------  -----------\n",
      "dataset_size              999\n",
      "vocab_size              81649\n",
      "total_tokens           604211\n",
      "avg_token_freq              7.4001\n",
      "avg_token_per_doc         604.816\n",
      "avg_stopwords_per_doc       0\n",
      "\n",
      "Stat (lemmatized)             Value\n",
      "---------------------  ------------\n",
      "dataset_size              999\n",
      "vocab_size              64426\n",
      "total_tokens           610326\n",
      "avg_token_freq              9.47329\n",
      "avg_token_per_doc         610.937\n",
      "avg_stopwords_per_doc       0\n"
     ]
    }
   ],
   "source": [
    "# Check the stats for the dataset after running pipeline\n",
    "\n",
    "table_stats_preprocessed = None\n",
    "\n",
    "if stats_file_exists(folder_path, file_name_preprocessed):\n",
    "    table_stats_preprocessed = list(load_stats_file(folder_path, file_name_preprocessed).items())\n",
    "else:\n",
    "    table_stats_preprocessed = create_stats_table(list(subtitled_programs_preprocessed.values()))\n",
    "\n",
    "print(tabulate(table_stats_previous, headers=[\"Stat (basic)\", \"Value\"]))\n",
    "print()\n",
    "print(tabulate(table_stats_preprocessed, headers=[\"Stat (lemmatized)\", \"Value\"]))"
   ]
  },
  {
   "cell_type": "code",
   "execution_count": 18,
   "metadata": {},
   "outputs": [],
   "source": [
    "# Write preprocessed data to file\n",
    "\n",
    "write_subtitles_file(folder_path, file_name_preprocessed, subtitled_programs_preprocessed)\n",
    "write_stats_file(folder_path, file_name_preprocessed, table_stats_preprocessed)\n",
    "write_pipeline_file(folder_path, file_name_preprocessed, pipeline.document_methods)"
   ]
  }
 ],
 "metadata": {
  "interpreter": {
   "hash": "319280241ff3efc49142e6dc9500d3472c32e7319f7a25b1b817d430a24847ae"
  },
  "kernelspec": {
   "display_name": "Python 3.8.12 ('base')",
   "language": "python",
   "name": "python3"
  },
  "language_info": {
   "codemirror_mode": {
    "name": "ipython",
    "version": 3
   },
   "file_extension": ".py",
   "mimetype": "text/x-python",
   "name": "python",
   "nbconvert_exporter": "python",
   "pygments_lexer": "ipython3",
   "version": "3.8.12"
  },
  "orig_nbformat": 4
 },
 "nbformat": 4,
 "nbformat_minor": 2
}
