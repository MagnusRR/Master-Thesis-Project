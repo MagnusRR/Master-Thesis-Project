{
 "cells": [
  {
   "cell_type": "markdown",
   "metadata": {},
   "source": [
    "# NST Preprocessing Experiment (NPE)\n",
    "## Lemmatized Pipeline\n",
    "\n",
    "Pipeline with intermediate preprocessing rules to render only lemmatized words with a high enough TF-IDF count to be used in the NST preprocessing Experiment."
   ]
  },
  {
   "cell_type": "code",
   "execution_count": 1,
   "metadata": {},
   "outputs": [],
   "source": [
    "# Imports\n",
    "from tabulate import tabulate\n",
    "import random\n",
    "\n",
    "from src.utils.file_management import (\n",
    "    subtitles_file_exists,\n",
    "    load_subtitles,\n",
    "    write_subtitles_file,\n",
    "    stats_file_exists,\n",
    "    write_stats_file,\n",
    "    load_stats_file,\n",
    "    write_pipeline_file)\n",
    "\n",
    "from src.utils.tables_and_plots import create_stats_table\n",
    "\n",
    "from textPrep.settings.common import word_tf_df\n",
    "\n",
    "from textPrep.preprocessing_pipeline.NextGen import NextGen\n",
    "\n",
    "# Variable for indicating which sample to get and properly name written files \n",
    "NST_SAMPLE_SIZE = 1000"
   ]
  },
  {
   "cell_type": "code",
   "execution_count": 2,
   "metadata": {},
   "outputs": [],
   "source": [
    "# Load file produced by previous pipeline\n",
    "folder_path = r\"nst_preprocessing_experiment/preprocessed_data/\"\n",
    "file_name_previous = f\"npe_{NST_SAMPLE_SIZE}_lemmatized\"\n",
    "\n",
    "subtitled_programs_previous_pipeline = load_subtitles(folder_path, file_name_previous)"
   ]
  },
  {
   "cell_type": "code",
   "execution_count": 3,
   "metadata": {},
   "outputs": [
    {
     "data": {
      "text/plain": [
       "['truls',\n",
       " 'pedersen',\n",
       " 'åtte',\n",
       " 'åringe',\n",
       " 'konkurrere',\n",
       " 'hverandres',\n",
       " 'idrett',\n",
       " 'dagers',\n",
       " 'trening',\n",
       " 'gjelde']"
      ]
     },
     "execution_count": 3,
     "metadata": {},
     "output_type": "execute_result"
    }
   ],
   "source": [
    "example_program_id = random.choice(list(subtitled_programs_previous_pipeline.keys()))\n",
    "example_program_slice = 10\n",
    "subtitled_programs_previous_pipeline[example_program_id][:example_program_slice]"
   ]
  },
  {
   "cell_type": "code",
   "execution_count": 4,
   "metadata": {},
   "outputs": [
    {
     "name": "stdout",
     "output_type": "stream",
     "text": [
      "Stat (lemmatized)             Value\n",
      "---------------------  ------------\n",
      "dataset_size              999\n",
      "vocab_size              64427\n",
      "total_tokens           613956\n",
      "avg_token_freq              9.52948\n",
      "avg_token_per_doc         614.571\n",
      "avg_stopwords_per_doc       0\n"
     ]
    }
   ],
   "source": [
    "# Get the stats for the previous preprocessed data\n",
    "\n",
    "table_stats_previous = None\n",
    "\n",
    "if stats_file_exists(folder_path, file_name_previous):\n",
    "    table_stats_previous = list(load_stats_file(folder_path, file_name_previous).items())\n",
    "else:\n",
    "    table_stats_previous = create_stats_table(list(subtitled_programs_previous_pipeline.values()))\n",
    "print(tabulate(table_stats_previous, headers=[\"Stat (lemmatized)\", \"Value\"]))"
   ]
  },
  {
   "cell_type": "code",
   "execution_count": 5,
   "metadata": {},
   "outputs": [],
   "source": [
    "# Find term and document frequenciesuencies for all tokens\n",
    "frequencies = word_tf_df({}, list(subtitled_programs_previous_pipeline.values()))"
   ]
  },
  {
   "cell_type": "code",
   "execution_count": 6,
   "metadata": {},
   "outputs": [],
   "source": [
    "# Removing tokens with TF-IDF score below threshold of 0.5 and tokens with collection frequency above 1000\n",
    "\n",
    "file_name_preprocessed = f\"npe_{NST_SAMPLE_SIZE}_lem_tfidf\"\n",
    "\n",
    "subtitled_programs_preprocessed = None\n",
    "\n",
    "if subtitles_file_exists(folder_path, file_name_preprocessed):\n",
    "    subtitled_programs_preprocessed = load_subtitles(folder_path, file_name_preprocessed)\n",
    "else:\n",
    "    runner = NextGen()\n",
    "    tfidf_preprocessed_data = runner.filter_by_tfidf(\n",
    "        dataset=list(subtitled_programs_previous_pipeline.values()), freq=frequencies, threshold=0.5)\n",
    "    fully_preprocessed_data = runner.filter_by_frequency(\n",
    "        dataset=tfidf_preprocessed_data, max_freq=1000)\n",
    "    subtitled_programs_preprocessed = dict(zip(\n",
    "        subtitled_programs_previous_pipeline.keys(), fully_preprocessed_data))"
   ]
  },
  {
   "cell_type": "code",
   "execution_count": 7,
   "metadata": {},
   "outputs": [
    {
     "name": "stdout",
     "output_type": "stream",
     "text": [
      "Stat (lemmatized)             Value\n",
      "---------------------  ------------\n",
      "dataset_size              999\n",
      "vocab_size              64427\n",
      "total_tokens           613956\n",
      "avg_token_freq              9.52948\n",
      "avg_token_per_doc         614.571\n",
      "avg_stopwords_per_doc       0\n",
      "\n",
      "Stat (lem + TFIDF)           Value\n",
      "---------------------  -----------\n",
      "dataset_size              999\n",
      "vocab_size              17784\n",
      "total_tokens           498286\n",
      "avg_token_freq             28.0188\n",
      "avg_token_per_doc         498.785\n",
      "avg_stopwords_per_doc       0\n"
     ]
    }
   ],
   "source": [
    "# Check the stats for the dataset after doing TF-IDF cleaning\n",
    "\n",
    "table_stats_preprocessed = None\n",
    "\n",
    "if stats_file_exists(folder_path, file_name_preprocessed):\n",
    "    table_stats_preprocessed = list(load_stats_file(folder_path, file_name_preprocessed).items())\n",
    "else:\n",
    "    table_stats_preprocessed = create_stats_table(list(subtitled_programs_preprocessed.values()))\n",
    "\n",
    "print(tabulate(table_stats_previous, headers=[\"Stat (lemmatized)\", \"Value\"]))\n",
    "print()\n",
    "print(tabulate(table_stats_preprocessed, headers=[\"Stat (lem + TFIDF)\", \"Value\"]))"
   ]
  },
  {
   "cell_type": "code",
   "execution_count": 8,
   "metadata": {},
   "outputs": [],
   "source": [
    "# Write preprocessed data to file\n",
    "\n",
    "write_subtitles_file(folder_path, file_name_preprocessed, subtitled_programs_preprocessed)\n",
    "write_stats_file(folder_path, file_name_preprocessed, table_stats_preprocessed)"
   ]
  }
 ],
 "metadata": {
  "interpreter": {
   "hash": "319280241ff3efc49142e6dc9500d3472c32e7319f7a25b1b817d430a24847ae"
  },
  "kernelspec": {
   "display_name": "Python 3.8.12 ('base')",
   "language": "python",
   "name": "python3"
  },
  "language_info": {
   "codemirror_mode": {
    "name": "ipython",
    "version": 3
   },
   "file_extension": ".py",
   "mimetype": "text/x-python",
   "name": "python",
   "nbconvert_exporter": "python",
   "pygments_lexer": "ipython3",
   "version": "3.8.12"
  },
  "orig_nbformat": 4
 },
 "nbformat": 4,
 "nbformat_minor": 2
}
