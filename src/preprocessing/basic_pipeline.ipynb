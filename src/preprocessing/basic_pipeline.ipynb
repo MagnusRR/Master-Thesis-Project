{
 "cells": [
  {
   "cell_type": "markdown",
   "metadata": {},
   "source": [
    "# NST Preprocessing Experiment (NPE)\n",
    "## Basic Pipeline\n",
    "\n",
    "Pipeline with simple preprocessing rules to render only lower-case, purely alphabetical and stopword-free data to be used in the NST preprocessing Experiment."
   ]
  },
  {
   "cell_type": "code",
   "execution_count": 1,
   "metadata": {},
   "outputs": [],
   "source": [
    "# Imports\n",
    "from tabulate import tabulate\n",
    "import random\n",
    "\n",
    "from src.utils.file_management import (\n",
    "    load_subtitles_from_nst_sample,\n",
    "    stats_file_exists,\n",
    "    load_subtitles,\n",
    "    write_subtitles_file,\n",
    "    write_stats_file,\n",
    "    load_stats_file,\n",
    "    write_pipeline_file)\n",
    "\n",
    "from src.utils.tables_and_plots import create_stats_table\n",
    "\n",
    "from textPrep.preprocessing_pipeline import (\n",
    "    Preprocess,\n",
    "    RemoveSubtitleMetadata,\n",
    "    RemovePunctuation,\n",
    "    RemoveNumbers,\n",
    "    Capitalization,\n",
    "    RemoveStopWords)\n",
    "\n",
    "from textPrep.preprocessing_pipeline.NextGen import NextGen\n",
    "\n",
    "# Variable for indicating which sample to get and properly name written files \n",
    "NST_SAMPLE_SIZE = 1000"
   ]
  },
  {
   "cell_type": "code",
   "execution_count": 2,
   "metadata": {},
   "outputs": [],
   "source": [
    "# Load unprocessed NST sample for the basic preprocessing pipeline\n",
    "subtitled_programs = load_subtitles_from_nst_sample(NST_SAMPLE_SIZE)"
   ]
  },
  {
   "cell_type": "code",
   "execution_count": 3,
   "metadata": {},
   "outputs": [],
   "source": [
    "# Load file produced by raw pipeline\n",
    "folder_path = r\"nst_preprocessing_experiment/preprocessed_data/\"\n",
    "file_name_previous = f\"npe_{NST_SAMPLE_SIZE}_raw\"\n",
    "\n",
    "subtitled_programs_previous_pipeline = load_subtitles(folder_path, file_name_previous)"
   ]
  },
  {
   "cell_type": "code",
   "execution_count": 4,
   "metadata": {},
   "outputs": [
    {
     "data": {
      "text/plain": [
       "['Politiet',\n",
       " 'stengte',\n",
       " 'mobilnett',\n",
       " 'pga',\n",
       " 'aksjon',\n",
       " 'mot',\n",
       " 'fly',\n",
       " 'som',\n",
       " 'ble',\n",
       " 'bombetruet']"
      ]
     },
     "execution_count": 4,
     "metadata": {},
     "output_type": "execute_result"
    }
   ],
   "source": [
    "example_program_id = random.choice(list(subtitled_programs.keys()))\n",
    "example_program_slice = 10\n",
    "subtitled_programs_previous_pipeline[example_program_id][:example_program_slice]"
   ]
  },
  {
   "cell_type": "code",
   "execution_count": 5,
   "metadata": {},
   "outputs": [
    {
     "name": "stdout",
     "output_type": "stream",
     "text": [
      "Stat (raw)                       Value\n",
      "---------------------  ---------------\n",
      "dataset_size             999\n",
      "vocab_size             95757\n",
      "total_tokens               1.77714e+06\n",
      "avg_token_freq            18.5589\n",
      "avg_token_per_doc       1778.92\n",
      "avg_stopwords_per_doc    971.927\n"
     ]
    }
   ],
   "source": [
    "# Get the stats for the previous preprocessed data\n",
    "\n",
    "table_stats_previous = None\n",
    "\n",
    "if stats_file_exists(folder_path, file_name_previous):\n",
    "    table_stats_previous = list(load_stats_file(folder_path, file_name_previous).items())\n",
    "else:\n",
    "    table_stats_previous = create_stats_table(list(subtitled_programs_previous_pipeline.values()))\n",
    "print(tabulate(table_stats_previous, headers=[\"Stat (raw)\", \"Value\"]))"
   ]
  },
  {
   "cell_type": "code",
   "execution_count": 6,
   "metadata": {},
   "outputs": [],
   "source": [
    "# Initialize the textPrep pipeline\n",
    "pipeline = Preprocess()"
   ]
  },
  {
   "cell_type": "code",
   "execution_count": 7,
   "metadata": {},
   "outputs": [],
   "source": [
    "# Removing technical metadata from subtitles\n",
    "rsm = RemoveSubtitleMetadata()"
   ]
  },
  {
   "cell_type": "code",
   "execution_count": 8,
   "metadata": {},
   "outputs": [],
   "source": [
    "# Removing everything but alphanumerical characters\n",
    "rp = RemovePunctuation(is_twitter=False, keep_hashtags=False)"
   ]
  },
  {
   "cell_type": "code",
   "execution_count": 9,
   "metadata": {},
   "outputs": [],
   "source": [
    "# Removing all numbers\n",
    "rm = RemoveNumbers()"
   ]
  },
  {
   "cell_type": "code",
   "execution_count": 10,
   "metadata": {},
   "outputs": [],
   "source": [
    "# Lower-casing text\n",
    "cap = Capitalization()"
   ]
  },
  {
   "cell_type": "code",
   "execution_count": 11,
   "metadata": {},
   "outputs": [],
   "source": [
    "# Removing stopwords\n",
    "rsw = RemoveStopWords(is_news=False)"
   ]
  },
  {
   "cell_type": "code",
   "execution_count": 12,
   "metadata": {},
   "outputs": [],
   "source": [
    "# Add rules to the pipeline (the stringified rule makes it easy to save the pipeline details)\n",
    "pipeline.document_methods = [\n",
    "    (rsm.remove_subtitle_metadata, str(rsm),),\n",
    "    (rp.remove_punctuation, str(rp),),\n",
    "    (rm.remove_numbers, str(rm),),\n",
    "    (cap.lowercase, str(cap),),\n",
    "    (rsw.remove_stopwords, str(rsw),)\n",
    "    ]"
   ]
  },
  {
   "cell_type": "code",
   "execution_count": 13,
   "metadata": {},
   "outputs": [],
   "source": [
    "# Initialize the pipeline runner\n",
    "runner = NextGen()"
   ]
  },
  {
   "cell_type": "code",
   "execution_count": 14,
   "metadata": {},
   "outputs": [],
   "source": [
    "# Preprocess the data with the given rules\n",
    "preprocessed_data = runner.full_preprocess(list(subtitled_programs.values()), pipeline, ngram_min_freq=-1)\n",
    "subtitled_programs_preprocessed = dict(zip(subtitled_programs.keys(), preprocessed_data))"
   ]
  },
  {
   "cell_type": "code",
   "execution_count": 15,
   "metadata": {},
   "outputs": [
    {
     "data": {
      "text/plain": [
       "['politiet',\n",
       " 'stengte',\n",
       " 'mobilnett',\n",
       " 'pga',\n",
       " 'aksjon',\n",
       " 'fly',\n",
       " 'bombetruet',\n",
       " 'nedgang',\n",
       " 'uttak',\n",
       " 'fedrekvote']"
      ]
     },
     "execution_count": 15,
     "metadata": {},
     "output_type": "execute_result"
    }
   ],
   "source": [
    "subtitled_programs_preprocessed[example_program_id][:example_program_slice]"
   ]
  },
  {
   "cell_type": "code",
   "execution_count": 16,
   "metadata": {},
   "outputs": [
    {
     "name": "stdout",
     "output_type": "stream",
     "text": [
      "Stat (raw)                       Value\n",
      "---------------------  ---------------\n",
      "dataset_size             999\n",
      "vocab_size             95757\n",
      "total_tokens               1.77714e+06\n",
      "avg_token_freq            18.5589\n",
      "avg_token_per_doc       1778.92\n",
      "avg_stopwords_per_doc    971.927\n",
      "\n",
      "Stat (basic)                 Value\n",
      "---------------------  -----------\n",
      "dataset_size              999\n",
      "vocab_size              81649\n",
      "total_tokens           604211\n",
      "avg_token_freq              7.4001\n",
      "avg_token_per_doc         604.816\n",
      "avg_stopwords_per_doc       0\n"
     ]
    }
   ],
   "source": [
    "# Check the stats for the dataset after running pipeline\n",
    "\n",
    "file_name_preprocessed = f\"npe_{NST_SAMPLE_SIZE}_basic\"\n",
    "\n",
    "table_stats_preprocessed = None\n",
    "\n",
    "if stats_file_exists(folder_path, file_name_preprocessed):\n",
    "    table_stats_preprocessed = list(load_stats_file(folder_path, file_name_preprocessed).items())\n",
    "else:\n",
    "    table_stats_preprocessed = create_stats_table(list(subtitled_programs_preprocessed.values()))\n",
    "\n",
    "print(tabulate(table_stats_previous, headers=[\"Stat (raw)\", \"Value\"]))\n",
    "print()\n",
    "print(tabulate(table_stats_preprocessed, headers=[\"Stat (basic)\", \"Value\"]))"
   ]
  },
  {
   "cell_type": "code",
   "execution_count": 17,
   "metadata": {},
   "outputs": [],
   "source": [
    "# Write preprocessed data to file\n",
    "\n",
    "write_subtitles_file(folder_path, file_name_preprocessed, subtitled_programs_preprocessed)\n",
    "write_stats_file(folder_path, file_name_preprocessed, table_stats_preprocessed)\n",
    "write_pipeline_file(folder_path, file_name_preprocessed, pipeline.document_methods)"
   ]
  }
 ],
 "metadata": {
  "interpreter": {
   "hash": "319280241ff3efc49142e6dc9500d3472c32e7319f7a25b1b817d430a24847ae"
  },
  "kernelspec": {
   "display_name": "Python 3.8.12 ('base')",
   "language": "python",
   "name": "python3"
  },
  "language_info": {
   "codemirror_mode": {
    "name": "ipython",
    "version": 3
   },
   "file_extension": ".py",
   "mimetype": "text/x-python",
   "name": "python",
   "nbconvert_exporter": "python",
   "pygments_lexer": "ipython3",
   "version": "3.8.12"
  },
  "orig_nbformat": 4
 },
 "nbformat": 4,
 "nbformat_minor": 2
}
