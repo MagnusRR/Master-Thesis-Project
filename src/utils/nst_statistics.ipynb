{
 "cells": [
  {
   "cell_type": "markdown",
   "metadata": {},
   "source": [
    "# Statistics of the NST dataset"
   ]
  },
  {
   "cell_type": "code",
   "execution_count": 134,
   "metadata": {},
   "outputs": [],
   "source": [
    "# Imports\n",
    "from src.utils.file_management import ROOT_PATH, load_subtitles_from_nst_sample, load_nst_sample, subtitles_file_exists, load_subtitles, write_subtitles_file, stats_file_exists, load_stats_file, write_stats_file\n",
    "from src.utils.tables_and_plots import create_stats_table\n",
    "import os\n",
    "import statistics\n",
    "import matplotlib.pyplot as plt\n",
    "from tabulate import tabulate\n",
    "import random\n",
    "\n",
    "from textPrep.preprocessing_pipeline import (\n",
    "    Preprocess,\n",
    "    RemoveSubtitleMetadata)\n",
    "\n",
    "from textPrep.preprocessing_pipeline.NextGen import NextGen\n",
    "\n",
    "NST_FULL_SIZE = \"FULL\"\n",
    "NST_SAMPLE_SIZE = 1000"
   ]
  },
  {
   "cell_type": "code",
   "execution_count": 62,
   "metadata": {},
   "outputs": [],
   "source": [
    "# Load NST sample, from original NST folder and sample file\n",
    "\n",
    "file_path_full = os.path.join(ROOT_PATH, r\"nst_sample\", f\"nst_{NST_FULL_SIZE}.csv\")\n",
    "file_path_sample = os.path.join(ROOT_PATH, r\"nst_sample\", f\"nst_{NST_SAMPLE_SIZE}.csv\")\n",
    "\n",
    "nst_full = load_nst_sample(file_path_full)\n",
    "nst_sample = load_nst_sample(file_path_sample)"
   ]
  },
  {
   "cell_type": "code",
   "execution_count": 3,
   "metadata": {},
   "outputs": [],
   "source": [
    "def harmonic_mean(coh, div):\n",
    "    return ((1+coh)+2*div)/4"
   ]
  },
  {
   "cell_type": "code",
   "execution_count": 10,
   "metadata": {},
   "outputs": [
    {
     "data": {
      "text/plain": [
       "0.73325"
      ]
     },
     "execution_count": 10,
     "metadata": {},
     "output_type": "execute_result"
    }
   ],
   "source": [
    "harmonic_mean(0.909,0.512)"
   ]
  },
  {
   "cell_type": "code",
   "execution_count": 12,
   "metadata": {},
   "outputs": [
    {
     "data": {
      "text/plain": [
       "0.8907499999999999"
      ]
     },
     "execution_count": 12,
     "metadata": {},
     "output_type": "execute_result"
    }
   ],
   "source": [
    "harmonic_mean(0.563,1.0)"
   ]
  },
  {
   "cell_type": "code",
   "execution_count": 73,
   "metadata": {},
   "outputs": [],
   "source": [
    "nst_full_lengths = [len(file) for file in nst_full.values()]\n",
    "nst_sample_lengths = [len(file) for file in nst_sample.values()]"
   ]
  },
  {
   "cell_type": "code",
   "execution_count": 74,
   "metadata": {},
   "outputs": [
    {
     "name": "stdout",
     "output_type": "stream",
     "text": [
      "Statistics full NST dataset:\n",
      "Number of files: 14550\n",
      "Average file length: 203.93079037800686\n",
      "Median file length: 155.0\n",
      "Min file length: 2\n",
      "Max file length: 2146\n",
      "\n",
      "Statistics sample:\n",
      "Number of files: 999\n",
      "Average file length: 199.6096096096096\n",
      "Median file length: 149\n",
      "Min file length: 8\n",
      "Max file length: 1814\n"
     ]
    }
   ],
   "source": [
    "print(\"Statistics full NST dataset:\")\n",
    "print(\"Number of files:\", len(nst_full))\n",
    "print(\"Average file length:\", statistics.mean(nst_full_lengths))\n",
    "print(\"Median file length:\", statistics.median(nst_full_lengths))\n",
    "print(\"Min file length:\", min(nst_full_lengths))\n",
    "print(\"Max file length:\", max(nst_full_lengths))\n",
    "\n",
    "print(\"\\nStatistics sample:\")\n",
    "print(\"Number of files:\", len(nst_sample))\n",
    "print(\"Average file length:\", statistics.mean(nst_sample_lengths))\n",
    "print(\"Median file length:\", statistics.median(nst_sample_lengths))\n",
    "print(\"Min file length:\", min(nst_sample_lengths))\n",
    "print(\"Max file length:\", max(nst_sample_lengths))"
   ]
  },
  {
   "cell_type": "code",
   "execution_count": 75,
   "metadata": {},
   "outputs": [
    {
     "data": {
      "image/png": "[encoded data removed]",
      "text/plain": [
       "<Figure size 720x360 with 2 Axes>"
      ]
     },
     "metadata": {
      "needs_background": "light"
     },
     "output_type": "display_data"
    }
   ],
   "source": [
    "column_ranges = [i * 200 for i in range(0, 12)]\n",
    "titles = [\"Full NST Dataset (N=14550)\", \"Sample of NST Dataset (N=1000)\"]\n",
    "datasets = [nst_full_lengths, nst_sample_lengths]\n",
    "\n",
    "fig = plt.figure(figsize=(10, 5))\n",
    "for i in range(len(datasets)):\n",
    "    ax = fig.add_subplot(1, 2, i + 1)\n",
    "    ax.set_title(titles[i])\n",
    "    ax.set_xlabel(\"Number of subtitle lines (per file)\")\n",
    "    if i == 0:\n",
    "        ax.set_ylabel(\"Number of files\")\n",
    "    plt.hist(datasets[i], bins=column_ranges)\n",
    "fig.tight_layout()\n",
    "plt.show()"
   ]
  },
  {
   "cell_type": "code",
   "execution_count": 76,
   "metadata": {},
   "outputs": [],
   "source": [
    "# plt.boxplot(nst_lengths)"
   ]
  },
  {
   "cell_type": "code",
   "execution_count": 77,
   "metadata": {},
   "outputs": [],
   "source": [
    "# Load unprocessed NST and NST sample to use for statistical analysis\n",
    "nst_subtitles_full = load_subtitles_from_nst_sample(NST_FULL_SIZE)\n",
    "nst_subtitles_sample = load_subtitles_from_nst_sample(NST_SAMPLE_SIZE)"
   ]
  },
  {
   "cell_type": "code",
   "execution_count": 78,
   "metadata": {},
   "outputs": [
    {
     "name": "stdout",
     "output_type": "stream",
     "text": [
      "Stat (Full NST)                   Value\n",
      "---------------------  ----------------\n",
      "dataset_size            14550\n",
      "vocab_size             872561\n",
      "total_tokens                2.72116e+07\n",
      "avg_token_freq             31.1859\n",
      "avg_token_per_doc        1870.21\n",
      "avg_stopwords_per_doc     897.908\n",
      "\n",
      "Stat (Sample)                     Value\n",
      "---------------------  ----------------\n",
      "dataset_size              999\n",
      "vocab_size             157221\n",
      "total_tokens                1.82958e+06\n",
      "avg_token_freq             11.637\n",
      "avg_token_per_doc        1831.41\n",
      "avg_stopwords_per_doc     881.47\n"
     ]
    }
   ],
   "source": [
    "# Token stats of both datasets\n",
    "\n",
    "folder_path = r\"preliminary_experiment/preprocessed_data/\"\n",
    "file_name_full = f\"pe_{NST_FULL_SIZE}\"\n",
    "file_name_sample = f\"pe_{NST_SAMPLE_SIZE}\"\n",
    "\n",
    "table_stats_full = None\n",
    "table_stats_sample = None\n",
    "\n",
    "if stats_file_exists(folder_path, file_name_full):\n",
    "    table_stats_full = list(load_stats_file(folder_path, file_name_full).items())\n",
    "else:\n",
    "    table_stats_full = create_stats_table(list(nst_subtitles_full.values()))\n",
    "    write_stats_file(folder_path, file_name_full, table_stats_full)\n",
    "\n",
    "if stats_file_exists(folder_path, file_name_sample):\n",
    "    table_stats_sample = list(load_stats_file(folder_path, file_name_sample).items())\n",
    "else:\n",
    "    table_stats_sample = create_stats_table(list(nst_subtitles_sample.values()))\n",
    "    write_stats_file(folder_path, file_name_sample, table_stats_sample)\n",
    "\n",
    "print(tabulate(table_stats_full, headers=[\"Stat (Full NST)\", \"Value\"]))\n",
    "print()\n",
    "print(tabulate(table_stats_sample, headers=[\"Stat (Sample)\", \"Value\"]))"
   ]
  },
  {
   "cell_type": "code",
   "execution_count": 79,
   "metadata": {},
   "outputs": [],
   "source": [
    "# Initialize the textPrep pipeline\n",
    "pipeline = Preprocess()\n",
    "\n",
    "# Removing technical metadata from subtitles\n",
    "rsm = RemoveSubtitleMetadata()\n",
    "\n",
    "# Add rules to the pipeline (the stringified rule makes it easy to save the pipeline details)\n",
    "pipeline.document_methods = [(rsm.remove_subtitle_metadata, str(rsm),)]\n",
    "\n",
    "# Initialize the pipeline runner\n",
    "runner = NextGen()"
   ]
  },
  {
   "cell_type": "code",
   "execution_count": 80,
   "metadata": {},
   "outputs": [],
   "source": [
    "# Preprocess the data with the given rules\n",
    "\n",
    "file_name_full_metadata_removed = f\"pe_{NST_FULL_SIZE}_metadata_removed\"\n",
    "file_name_sample_metadata_removed = f\"pe_{NST_SAMPLE_SIZE}_metadata_removed\"\n",
    "\n",
    "nst_subtitles_full_metadata_removed = None\n",
    "nst_subtitles_sample_metadata_removed = None\n",
    "\n",
    "if subtitles_file_exists(folder_path, file_name_full_metadata_removed):\n",
    "    nst_subtitles_full_metadata_removed = load_subtitles(folder_path, file_name_full_metadata_removed)\n",
    "else:\n",
    "    preprocessed_full_data = runner.full_preprocess(list(nst_subtitles_full.values()), pipeline, ngram_min_freq=-1)\n",
    "    nst_subtitles_full_preprocessed = dict(zip(nst_subtitles_full.keys(), preprocessed_full_data))\n",
    "    nst_subtitles_full_metadata_removed = {}\n",
    "    for (program_id, subtitles) in nst_subtitles_full_preprocessed.items():\n",
    "            nst_subtitles_full_metadata_removed[program_id] = \" \".join(subtitles).split()\n",
    "    write_subtitles_file(folder_path, file_name_full_metadata_removed, nst_subtitles_full_metadata_removed)\n",
    "\n",
    "if subtitles_file_exists(folder_path, file_name_sample_metadata_removed):\n",
    "    nst_subtitles_sample_metadata_removed = load_subtitles(folder_path, file_name_sample_metadata_removed)\n",
    "else:\n",
    "    preprocessed_sample_data = runner.full_preprocess(list(nst_subtitles_sample.values()), pipeline, ngram_min_freq=-1)\n",
    "    nst_subtitles_sample_preprocessed = dict(zip(nst_subtitles_sample.keys(), preprocessed_sample_data))\n",
    "    nst_subtitles_sample_metadata_removed = {}\n",
    "    for (program_id, subtitles) in nst_subtitles_sample_preprocessed.items():\n",
    "            nst_subtitles_sample_metadata_removed[program_id] = \" \".join(subtitles).split()\n",
    "    write_subtitles_file(folder_path, file_name_sample_metadata_removed, nst_subtitles_sample_metadata_removed)"
   ]
  },
  {
   "cell_type": "code",
   "execution_count": 83,
   "metadata": {},
   "outputs": [
    {
     "name": "stdout",
     "output_type": "stream",
     "text": [
      "['{\\\\an1}.', '{\\\\an1}Opptak', 'av', 'simultanteksting', '{\\\\an1}Kreftpasienter', 'må', 'vente', 'opptil', 'sju', 'timer']\n",
      "['.', 'Kreftpasienter', 'må', 'vente', 'opptil', 'sju', 'timer', 'på', 'drosje', 'etter']\n"
     ]
    }
   ],
   "source": [
    "example_program_id = random.choice(list(nst_subtitles_sample.keys()))\n",
    "example_program_slice = 10\n",
    "print(nst_subtitles_full[example_program_id][:example_program_slice])\n",
    "print(nst_subtitles_full_metadata_removed[example_program_id][:example_program_slice])"
   ]
  },
  {
   "cell_type": "code",
   "execution_count": 124,
   "metadata": {},
   "outputs": [
    {
     "name": "stdout",
     "output_type": "stream",
     "text": [
      "Stat (Full NST)                  Value\n",
      "---------------------  ---------------\n",
      "dataset_size            14550\n",
      "vocab_size             821625\n",
      "total_tokens                2.7143e+07\n",
      "avg_token_freq             33.0357\n",
      "avg_token_per_doc        1865.5\n",
      "avg_stopwords_per_doc     897.441\n",
      "Stat (Sample)                     Value\n",
      "---------------------  ----------------\n",
      "dataset_size              999\n",
      "vocab_size             149975\n",
      "total_tokens                1.82517e+06\n",
      "avg_token_freq             12.1698\n",
      "avg_token_per_doc        1826.99\n",
      "avg_stopwords_per_doc     880.987\n"
     ]
    }
   ],
   "source": [
    "# Stats after removing metadata\n",
    "\n",
    "table_stats_full_metadata_removed = None\n",
    "table_stats_sample_metadata_removed = None\n",
    "\n",
    "if stats_file_exists(folder_path, file_name_full_metadata_removed):\n",
    "    table_stats_full_metadata_removed = list(load_stats_file(folder_path, file_name_full_metadata_removed).items())\n",
    "else:\n",
    "    table_stats_full_metadata_removed = create_stats_table(list(nst_subtitles_full_metadata_removed.values()))\n",
    "    write_stats_file(folder_path, file_name_full_metadata_removed, table_stats_full_metadata_removed)\n",
    "\n",
    "if stats_file_exists(folder_path, file_name_sample_metadata_removed):\n",
    "    table_stats_sample_metadata_removed = list(load_stats_file(folder_path, file_name_sample_metadata_removed).items())\n",
    "else:\n",
    "    table_stats_sample_metadata_removed = create_stats_table(list(nst_subtitles_sample_metadata_removed.values()))\n",
    "    write_stats_file(folder_path, file_name_sample_metadata_removed, table_stats_sample_metadata_removed)\n",
    "\n",
    "print(tabulate(table_stats_full_metadata_removed, headers=[\"Stat (Full NST)\", \"Value\"]))\n",
    "print(tabulate(table_stats_sample_metadata_removed, headers=[\"Stat (Sample)\", \"Value\"]))"
   ]
  },
  {
   "cell_type": "code",
   "execution_count": 145,
   "metadata": {},
   "outputs": [],
   "source": [
    "def print_stats_table(title, stats):\n",
    "    print(title, end=\" \")\n",
    "    for stat in stats:\n",
    "        if stat[1].isdigit():\n",
    "            print(f\"& {int(stat[1]):}\", end=\" \")\n",
    "        else:\n",
    "            print(f\"& {float(stat[1]):.2f}\", end=\" \")\n",
    "    print(r\"\\\\ \\hline\")"
   ]
  },
  {
   "cell_type": "code",
   "execution_count": 146,
   "metadata": {},
   "outputs": [
    {
     "name": "stdout",
     "output_type": "stream",
     "text": [
      "Normal & 14550 & 872561 & 27211612 & 31.19 & 1870.21 & 897.91 \\\\ \\hline\n",
      "Preproc. & 14550 & 821625 & 27142971 & 33.04 & 1865.50 & 897.44 \\\\ \\hline\n"
     ]
    }
   ],
   "source": [
    "print_stats_table(r\"Normal\", table_stats_full)\n",
    "print_stats_table(r\"Preproc.\", table_stats_full_metadata_removed)"
   ]
  },
  {
   "cell_type": "code",
   "execution_count": 147,
   "metadata": {},
   "outputs": [
    {
     "name": "stdout",
     "output_type": "stream",
     "text": [
      "NST & 14550 & 821625 & 27142971 & 33.04 & 1865.50 & 897.44 \\\\ \\hline\n",
      "Sample & 999 & 149975 & 1825168 & 12.17 & 1826.99 & 880.99 \\\\ \\hline\n"
     ]
    }
   ],
   "source": [
    "print_stats_table(r\"NST\", table_stats_full_metadata_removed)\n",
    "print_stats_table(r\"Sample\", table_stats_sample_metadata_removed)"
   ]
  }
 ],
 "metadata": {
  "kernelspec": {
   "display_name": "Python 3.8.12 ('base')",
   "language": "python",
   "name": "python3"
  },
  "language_info": {
   "codemirror_mode": {
    "name": "ipython",
    "version": 3
   },
   "file_extension": ".py",
   "mimetype": "text/x-python",
   "name": "python",
   "nbconvert_exporter": "python",
   "pygments_lexer": "ipython3",
   "version": "3.8.12"
  },
  "orig_nbformat": 4,
  "vscode": {
   "interpreter": {
    "hash": "319280241ff3efc49142e6dc9500d3472c32e7319f7a25b1b817d430a24847ae"
   }
  }
 },
 "nbformat": 4,
 "nbformat_minor": 2
}
