{
 "cells": [
  {
   "cell_type": "markdown",
   "metadata": {},
   "source": [
    "# Loading of sample from NST"
   ]
  },
  {
   "cell_type": "code",
   "execution_count": 13,
   "metadata": {},
   "outputs": [],
   "source": [
    "# Imports\n",
    "from src.utils.file_management import load_nst_sample_from_nst, load_nst_sample, ROOT_PATH\n",
    "import pandas as pd\n",
    "import os\n",
    "import re\n",
    "\n",
    "# Set True if you want to save the loaded sample\n",
    "create_and_save_sample = False\n",
    "full_sample = False"
   ]
  },
  {
   "cell_type": "code",
   "execution_count": 9,
   "metadata": {},
   "outputs": [],
   "source": [
    "# Load NST sample, from original NST folder or sample file\n",
    "\n",
    "nst_sample_size = 1000\n",
    "\n",
    "if full_sample:\n",
    "    nst_sample_size = \"FULL\"\n",
    "\n",
    "sample_folder_path = os.path.join(ROOT_PATH, r\"nst_sample\")\n",
    "\n",
    "sample_path = os.path.join(sample_folder_path, f\"nst_{nst_sample_size}.csv\")\n",
    "\n",
    "index_labels = [\"File name\", \"Number\"]\n",
    "\n",
    "nst_sample = {}\n",
    "if create_and_save_sample:\n",
    "    nst_sample = load_nst_sample_from_nst(sample_size=nst_sample_size, full_sample=full_sample)\n",
    "    pd.concat(nst_sample).to_csv(sample_path, sep=\";\", index_label=index_labels)\n",
    "    print(f\"NST sample with sample size {nst_sample_size} saved.\")\n",
    "else:\n",
    "    nst_sample = load_nst_sample(sample_path)"
   ]
  },
  {
   "cell_type": "code",
   "execution_count": 3,
   "metadata": {},
   "outputs": [],
   "source": [
    "# Splitting dataframe into metadata and text\n",
    "nst_sample_metadata = {}\n",
    "nst_sample_text = {}\n",
    "for (filename, frame) in nst_sample.items():\n",
    "    if frame.shape[0] != 0:\n",
    "        nst_sample_metadata[filename] = pd.Series(frame.iloc[0, 2].split(\"\\n\"))\n",
    "        nst_sample_text[filename] = frame.iloc[1:, 2].dropna()"
   ]
  },
  {
   "cell_type": "code",
   "execution_count": 5,
   "metadata": {},
   "outputs": [
    {
     "name": "stdout",
     "output_type": "stream",
     "text": [
      "NST sample metadata with sample size 1000 saved.\n",
      "NST sample text with sample size 1000 saved.\n"
     ]
    }
   ],
   "source": [
    "# Write text and metadata sample to CSV files\n",
    "\n",
    "metadata_path = os.path.join(sample_folder_path, f\"nst_{nst_sample_size}_metadata.csv\")\n",
    "text_path = os.path.join(sample_folder_path, f\"nst_{nst_sample_size}_text.csv\")\n",
    "\n",
    "pd.concat(nst_sample_metadata).to_csv(metadata_path, sep=\";\", index_label=index_labels, header=[\"Metadata\"])\n",
    "print(f\"NST sample metadata with sample size {nst_sample_size} saved.\")\n",
    "\n",
    "pd.concat(nst_sample_text).to_csv(text_path, sep=\";\", index_label=index_labels, header=[\"Subtitle\"])\n",
    "print(f\"NST sample text with sample size {nst_sample_size} saved.\")"
   ]
  }
 ],
 "metadata": {
  "interpreter": {
   "hash": "319280241ff3efc49142e6dc9500d3472c32e7319f7a25b1b817d430a24847ae"
  },
  "kernelspec": {
   "display_name": "Python 3.8.12 ('base')",
   "language": "python",
   "name": "python3"
  },
  "language_info": {
   "codemirror_mode": {
    "name": "ipython",
    "version": 3
   },
   "file_extension": ".py",
   "mimetype": "text/x-python",
   "name": "python",
   "nbconvert_exporter": "python",
   "pygments_lexer": "ipython3",
   "version": "3.8.12"
  },
  "orig_nbformat": 4
 },
 "nbformat": 4,
 "nbformat_minor": 2
}
