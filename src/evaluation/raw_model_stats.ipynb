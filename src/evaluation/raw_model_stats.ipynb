{
 "cells": [
  {
   "cell_type": "markdown",
   "metadata": {},
   "source": [
    "# NST Preprocessing Experiment (NPE):\n",
    "## Generating stats for raw data-based topic models\n",
    "\n",
    "Calculating topic coherence and topic diversity on the topicset geneated by LDA and Top2Vec models from the raw dataset in NPE."
   ]
  },
  {
   "cell_type": "code",
   "execution_count": 1,
   "metadata": {},
   "outputs": [],
   "source": [
    "# Imports\n",
    "import csv\n",
    "import os\n",
    "import random\n",
    "from tabulate import tabulate\n",
    "from matplotlib import pyplot as plt\n",
    "from collections import Counter\n",
    "import multiprocessing as mp\n",
    "from joblib import Parallel, delayed\n",
    "import itertools\n",
    "\n",
    "from src.utils.file_management import (\n",
    "    ROOT_PATH,\n",
    "    load_subtitles,\n",
    "    load_model_topics,\n",
    "    write_word_frequencies_file,\n",
    "    load_word_frequencies,\n",
    "    write_word_co_frequencies_zip_file,\n",
    "    load_zipped_word_co_frequencies)\n",
    "\n",
    "from textPrep.settings.common import (\n",
    "    word_frequency, \n",
    "    word_co_frequency_document)\n",
    "\n",
    "from textPrep.evaluation_metrics.evaluate_topic_set import compute_metrics\n",
    "\n",
    "NST_SAMPLE_SIZE = 1000\n",
    "PIPELINE = \"raw\"\n",
    "NUM_PROC = mp.cpu_count() - 2\n",
    "NUM_TOPIC_WORDS = 10"
   ]
  },
  {
   "cell_type": "code",
   "execution_count": 2,
   "metadata": {},
   "outputs": [
    {
     "data": {
      "text/plain": [
       "['Han', 'var', 'med', 'på', 'å']"
      ]
     },
     "execution_count": 2,
     "metadata": {},
     "output_type": "execute_result"
    }
   ],
   "source": [
    "# Load file produced by current pipeline\n",
    "folder_path_data = r\"nst_preprocessing_experiment/preprocessed_data\"\n",
    "file_name =  f\"npe_{NST_SAMPLE_SIZE}_{PIPELINE}\"\n",
    "\n",
    "subtitled_programs = load_subtitles(folder_path_data, file_name)\n",
    "\n",
    "example_program_id = random.choice(list(subtitled_programs.keys()))\n",
    "example_program_slice = 5\n",
    "\n",
    "subtitled_programs[example_program_id][:example_program_slice]"
   ]
  },
  {
   "cell_type": "code",
   "execution_count": 3,
   "metadata": {},
   "outputs": [
    {
     "name": "stdout",
     "output_type": "stream",
     "text": [
      "LDA first topic:\n",
      "['det', 'i', 'er', 'og', 'har', 'på', 'til', 'Det', 'en', 'å', 'du', 'som', 'ikke', 'vi', 'med', 'at', 'for', 'jeg', 'Jeg', 'om']\n",
      "\n",
      "Top2Vec first topic:\n",
      "['oooooh', 'pappa', 'faren', 'fader', 'hi', 'hallo', 'fortelle', 'pappaen', 'ooo', 'hei', 'onkel', 'ooh', 'hahaha', 'aaa', 'hey', 'oi', 'fortell', 'pr', 'sundag', 'heie', 'oh', 'ca', 'hua', 'kyi', 'haha', 'eh', 'ha', 'dap', 'foreldremøte', 'pappas', 'aha', 'ettermiddag', 'gutta', 'bukk', 'ola', 'pagikk', 'holme', 'halla', 'holm', 'mmm', 'vm', 'hugo', 'dere', 'kors', 'fc', 'hm', 'nff', 'evne', 'skattesystemet', 'sjalottløk']\n"
     ]
    }
   ],
   "source": [
    "# Load topics of LDA and Top2Vec models\n",
    "\n",
    "folder_path_topics = r\"nst_preprocessing_experiment/results/topics\"\n",
    "\n",
    "lda_topics = load_model_topics(folder_path_topics, file_name, model=\"lda\", num_lda_topics=8)\n",
    "top2vec_topics = load_model_topics(folder_path_topics, file_name, model=\"top2vec\", top2vec_embedding=\"distiluse\")\n",
    "\n",
    "print(\"LDA first topic:\")\n",
    "print(lda_topics[0])\n",
    "print(\"\\nTop2Vec first topic:\")\n",
    "print(top2vec_topics[0])"
   ]
  },
  {
   "cell_type": "code",
   "execution_count": 4,
   "metadata": {},
   "outputs": [
    {
     "name": "stdout",
     "output_type": "stream",
     "text": [
      "rikeste: 38\n"
     ]
    }
   ],
   "source": [
    "# Calculate and save, or load, RAW data word frequencies to/from file\n",
    "\n",
    "folder_path_frequencies = f\"nst_preprocessing_experiment/results/word_frequencies/{PIPELINE}\"\n",
    "file_name_frequencies = f\"npe_{NST_SAMPLE_SIZE}_{PIPELINE}_frequencies\"\n",
    "\n",
    "file_path_frequencies = os.path.join(ROOT_PATH, folder_path_frequencies, file_name_frequencies)\n",
    "\n",
    "word_frequencies = {}\n",
    "\n",
    "if os.path.exists(file_path_frequencies):\n",
    "    word_frequencies = load_word_frequencies(folder_path_frequencies, file_name_frequencies)\n",
    "else:\n",
    "    word_frequencies = word_frequency({}, list(subtitled_programs.values()))\n",
    "    write_word_frequencies_file(folder_path_frequencies, file_name_frequencies, word_frequencies)\n",
    "\n",
    "example_frequency = random.choice(list(word_frequencies.keys()))\n",
    "print(f\"{example_frequency}: {word_frequencies[example_frequency]}\")"
   ]
  },
  {
   "cell_type": "code",
   "execution_count": 7,
   "metadata": {},
   "outputs": [
    {
     "name": "stdout",
     "output_type": "stream",
     "text": [
      "Ready!\n",
      "Program 0-100 done!\n",
      "Program 0-100 summed!\n",
      "Program 100-200 done!\n",
      "Program 100-200 summed!\n",
      "Program 200-300 done!\n",
      "Program 200-300 summed!\n",
      "Program 300-400 done!\n",
      "Program 300-400 summed!\n",
      "Program 400-500 done!\n",
      "Program 400-500 summed!\n",
      "Program 500-600 done!\n",
      "Program 500-600 summed!\n",
      "Program 600-700 done!\n",
      "Program 600-700 summed!\n",
      "Program 700-800 done!\n",
      "Program 700-800 summed!\n",
      "Program 800-900 done!\n",
      "Program 800-900 summed!\n",
      "Program 900-1000 done!\n",
      "Program 900-1000 summed!\n",
      "All freqs found! Writing Zip file\n",
      "Zip file written! Finished!\n"
     ]
    }
   ],
   "source": [
    "# Calculate and save, or load, word co-frequencies to/from file\n",
    "\n",
    "file_name_co_frequencies = f\"npe_{NST_SAMPLE_SIZE}_{PIPELINE}_co_frequencies\"\n",
    "\n",
    "word_co_frequencies = Counter()\n",
    "\n",
    "file_path_co_frequencies = os.path.join(ROOT_PATH, folder_path_frequencies, str(file_name_co_frequencies + \".pkl.zip\"))\n",
    "\n",
    "if os.path.exists(file_path_co_frequencies):\n",
    "    word_co_frequencies = load_zipped_word_co_frequencies(folder_path_frequencies, file_name_co_frequencies)\n",
    "\n",
    "else:\n",
    "    print(\"Ready!\")\n",
    "    chunk_size = 100\n",
    "    for i in range(0, len(subtitled_programs.values()), chunk_size):\n",
    "\n",
    "        doc_word_co_frequencies = []\n",
    "\n",
    "        doc_word_co_frequencies = Parallel(n_jobs=NUM_PROC, backend=\"loky\")(\n",
    "            delayed(word_co_frequency_document)\n",
    "            (Counter(), program) for program in\n",
    "            itertools.islice(subtitled_programs.values(), i, i + chunk_size))\n",
    "        print(f\"Program {i}-{i + chunk_size} done!\")\n",
    "        \n",
    "        for doc_word_co_frequency in doc_word_co_frequencies:\n",
    "            word_co_frequencies.update(doc_word_co_frequency)\n",
    "        print(f\"Program {i}-{i + chunk_size} summed!\")\n",
    "    \n",
    "    print(\"All freqs found! Writing Zip file\")\n",
    "    \n",
    "    write_word_co_frequencies_zip_file(folder_path_frequencies, file_name_co_frequencies, word_co_frequencies)\n",
    "\n",
    "    print(\"Zip file written! Finished!\")"
   ]
  },
  {
   "cell_type": "code",
   "execution_count": 8,
   "metadata": {},
   "outputs": [
    {
     "name": "stdout",
     "output_type": "stream",
     "text": [
      "('MK', 'Prater'): 2\n"
     ]
    }
   ],
   "source": [
    "example_co_frequency = random.choice(list(word_co_frequencies.keys()))\n",
    "print(f\"{example_co_frequency}: {word_co_frequencies[example_co_frequency]}\")"
   ]
  },
  {
   "cell_type": "code",
   "execution_count": 9,
   "metadata": {},
   "outputs": [],
   "source": [
    "# Compute topic coherence and diversity of LDA and Top2Vec results on data\n",
    "\n",
    "coherence_lda, diversity_lda = compute_metrics(\n",
    "    lda_topics.values(), word_frequencies, word_co_frequencies, NUM_TOPIC_WORDS)\n",
    "coherence_top2vec, diversity_top2vec = compute_metrics(\n",
    "    top2vec_topics.values(), word_frequencies, word_co_frequencies, NUM_TOPIC_WORDS)\n"
   ]
  },
  {
   "cell_type": "code",
   "execution_count": 10,
   "metadata": {},
   "outputs": [
    {
     "data": {
      "text/plain": [
       "0.44307863514096113"
      ]
     },
     "execution_count": 10,
     "metadata": {},
     "output_type": "execute_result"
    }
   ],
   "source": [
    "coherence_lda"
   ]
  },
  {
   "cell_type": "code",
   "execution_count": 11,
   "metadata": {},
   "outputs": [
    {
     "data": {
      "text/plain": [
       "0.2125"
      ]
     },
     "execution_count": 11,
     "metadata": {},
     "output_type": "execute_result"
    }
   ],
   "source": [
    "diversity_lda"
   ]
  },
  {
   "cell_type": "code",
   "execution_count": 12,
   "metadata": {},
   "outputs": [
    {
     "data": {
      "text/plain": [
       "0.2281998417258285"
      ]
     },
     "execution_count": 12,
     "metadata": {},
     "output_type": "execute_result"
    }
   ],
   "source": [
    "coherence_top2vec"
   ]
  },
  {
   "cell_type": "code",
   "execution_count": 13,
   "metadata": {},
   "outputs": [
    {
     "data": {
      "text/plain": [
       "0.9444444444444444"
      ]
     },
     "execution_count": 13,
     "metadata": {},
     "output_type": "execute_result"
    }
   ],
   "source": [
    "diversity_top2vec"
   ]
  },
  {
   "cell_type": "code",
   "execution_count": 14,
   "metadata": {},
   "outputs": [
    {
     "name": "stdout",
     "output_type": "stream",
     "text": [
      "╒═════════╤═══════════╤══════════╕\n",
      "│ Model   │ Metric    │    Value │\n",
      "╞═════════╪═══════════╪══════════╡\n",
      "│ LDA     │ coherence │ 0.443079 │\n",
      "├─────────┼───────────┼──────────┤\n",
      "│ Top2Vec │ coherence │ 0.2282   │\n",
      "├─────────┼───────────┼──────────┤\n",
      "│ LDA     │ diversity │ 0.2125   │\n",
      "├─────────┼───────────┼──────────┤\n",
      "│ Top2Vec │ diversity │ 0.944444 │\n",
      "╘═════════╧═══════════╧══════════╛\n"
     ]
    }
   ],
   "source": [
    "# Check the stats for the dataset after running basic pipeline\n",
    "\n",
    "models = [\"LDA\" if i % 2 == 0 else \"Top2Vec\" for i in range(0, 4)]\n",
    "metrics = [\"coherence\" if i < 2 else \"diversity\" for i in range(0, 4)]\n",
    "values = [\n",
    "    coherence_lda,\n",
    "    coherence_top2vec,\n",
    "    diversity_lda,\n",
    "    diversity_top2vec\n",
    "    ]\n",
    "\n",
    "stats = [models, metrics, values]\n",
    "stats_tabulate = list(zip(*stats))\n",
    "print(tabulate(stats_tabulate, headers=[\"Model\", \"Metric\", \"Value\"], tablefmt=\"fancy_grid\"))"
   ]
  },
  {
   "cell_type": "code",
   "execution_count": 15,
   "metadata": {},
   "outputs": [
    {
     "data": {
      "image/png": "[encoded data removed]",
      "text/plain": [
       "<Figure size 504x432 with 1 Axes>"
      ]
     },
     "metadata": {
      "needs_background": "light"
     },
     "output_type": "display_data"
    }
   ],
   "source": [
    "plt.rcParams[\"figure.figsize\"] = [7.00, 6.00]\n",
    "plt.rcParams[\"figure.autolayout\"] = True\n",
    "coherence = values[:2]\n",
    "diversity = values[2:]\n",
    "plt.xlim(0.0, 1.1)\n",
    "plt.ylim(0.0, 0.5)\n",
    "plt.grid()\n",
    "plt.plot(diversity[0], coherence[0], marker=\"o\", markersize=20, markerfacecolor=\"green\")\n",
    "plt.plot(diversity[1], coherence[1], marker=\"d\", markersize=20, markerfacecolor=\"green\")\n",
    "plt.show()"
   ]
  },
  {
   "cell_type": "code",
   "execution_count": 16,
   "metadata": {},
   "outputs": [],
   "source": [
    "# Save all topic stats to file\n",
    "\n",
    "topic_stats_folder_path = r\"../../nst_preprocessing_experiment/results/topic_stats/\"\n",
    "topic_stats_file_name = f\"npe_{NST_SAMPLE_SIZE}_{PIPELINE}_topic_stats\"\n",
    "topic_stats_path = os.path.join(topic_stats_folder_path + topic_stats_file_name + r\".csv\")\n",
    "\n",
    "TOPIC_STAT = \"Topic stat\"\n",
    "VALUE = \"Value\"\n",
    "\n",
    "with open(topic_stats_path, encoding=\"utf-8\", mode=\"w\", newline=\"\") as topic_stats_file:\n",
    "    header = [TOPIC_STAT, VALUE]\n",
    "    writer = csv.DictWriter(topic_stats_file, fieldnames=header, delimiter=\";\")\n",
    "    writer.writeheader()\n",
    "    writer.writerow({TOPIC_STAT : \"LDA_coherence\", VALUE : coherence_lda})\n",
    "    writer.writerow({TOPIC_STAT : \"LDA_diversity\", VALUE : diversity_lda})\n",
    "    writer.writerow({TOPIC_STAT : \"Top2Vec_coherence\", VALUE : coherence_top2vec})\n",
    "    writer.writerow({TOPIC_STAT : \"Top2Vec_diversity\", VALUE : diversity_top2vec})"
   ]
  }
 ],
 "metadata": {
  "interpreter": {
   "hash": "319280241ff3efc49142e6dc9500d3472c32e7319f7a25b1b817d430a24847ae"
  },
  "kernelspec": {
   "display_name": "Python 3.8.12 ('base')",
   "language": "python",
   "name": "python3"
  },
  "language_info": {
   "codemirror_mode": {
    "name": "ipython",
    "version": 3
   },
   "file_extension": ".py",
   "mimetype": "text/x-python",
   "name": "python",
   "nbconvert_exporter": "python",
   "pygments_lexer": "ipython3",
   "version": "3.8.12"
  },
  "orig_nbformat": 4
 },
 "nbformat": 4,
 "nbformat_minor": 2
}
